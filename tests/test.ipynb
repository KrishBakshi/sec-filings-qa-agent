{
 "cells": [
  {
   "cell_type": "code",
   "execution_count": 2,
   "id": "1e502fa5",
   "metadata": {},
   "outputs": [
    {
     "data": {
      "text/html": [
       "<div>\n",
       "<style scoped>\n",
       "    .dataframe tbody tr th:only-of-type {\n",
       "        vertical-align: middle;\n",
       "    }\n",
       "\n",
       "    .dataframe tbody tr th {\n",
       "        vertical-align: top;\n",
       "    }\n",
       "\n",
       "    .dataframe thead th {\n",
       "        text-align: right;\n",
       "    }\n",
       "</style>\n",
       "<table border=\"1\" class=\"dataframe\">\n",
       "  <thead>\n",
       "    <tr style=\"text-align: right;\">\n",
       "      <th></th>\n",
       "      <th>ticker</th>\n",
       "      <th>formType</th>\n",
       "      <th>accessionNo</th>\n",
       "      <th>cik</th>\n",
       "      <th>companyNameLong</th>\n",
       "      <th>companyName</th>\n",
       "      <th>linkToFilingDetails</th>\n",
       "      <th>description</th>\n",
       "      <th>linkToTxt</th>\n",
       "      <th>filedAt</th>\n",
       "      <th>documentFormatFiles</th>\n",
       "      <th>periodOfReport</th>\n",
       "      <th>entities</th>\n",
       "      <th>id</th>\n",
       "      <th>seriesAndClassesContractsInformation</th>\n",
       "      <th>linkToHtml</th>\n",
       "      <th>linkToXbrl</th>\n",
       "      <th>dataFiles</th>\n",
       "      <th>items</th>\n",
       "      <th>effectivenessDate</th>\n",
       "    </tr>\n",
       "  </thead>\n",
       "  <tbody>\n",
       "    <tr>\n",
       "      <th>0</th>\n",
       "      <td>AAPL</td>\n",
       "      <td>10-Q</td>\n",
       "      <td>0000320193-25-000073</td>\n",
       "      <td>320193</td>\n",
       "      <td>Apple Inc. (Filer)</td>\n",
       "      <td>Apple Inc.</td>\n",
       "      <td>https://www.sec.gov/Archives/edgar/data/320193...</td>\n",
       "      <td>Form 10-Q - Quarterly report [Sections 13 or 1...</td>\n",
       "      <td>https://www.sec.gov/Archives/edgar/data/320193...</td>\n",
       "      <td>2025-08-01T06:00:42-04:00</td>\n",
       "      <td>[{'sequence': '1', 'size': '888048', 'document...</td>\n",
       "      <td>2025-06-28</td>\n",
       "      <td>[{'fiscalYearEnd': '0927', 'stateOfIncorporati...</td>\n",
       "      <td>67bc426d322a1d4cca82964b9a9b09eb</td>\n",
       "      <td>[]</td>\n",
       "      <td>https://www.sec.gov/Archives/edgar/data/320193...</td>\n",
       "      <td>NaN</td>\n",
       "      <td>[{'sequence': '5', 'size': '35427', 'documentU...</td>\n",
       "      <td>NaN</td>\n",
       "      <td>NaN</td>\n",
       "    </tr>\n",
       "  </tbody>\n",
       "</table>\n",
       "</div>"
      ],
      "text/plain": [
       "  ticker formType           accessionNo     cik     companyNameLong  \\\n",
       "0   AAPL     10-Q  0000320193-25-000073  320193  Apple Inc. (Filer)   \n",
       "\n",
       "  companyName                                linkToFilingDetails  \\\n",
       "0  Apple Inc.  https://www.sec.gov/Archives/edgar/data/320193...   \n",
       "\n",
       "                                         description  \\\n",
       "0  Form 10-Q - Quarterly report [Sections 13 or 1...   \n",
       "\n",
       "                                           linkToTxt  \\\n",
       "0  https://www.sec.gov/Archives/edgar/data/320193...   \n",
       "\n",
       "                     filedAt  \\\n",
       "0  2025-08-01T06:00:42-04:00   \n",
       "\n",
       "                                 documentFormatFiles periodOfReport  \\\n",
       "0  [{'sequence': '1', 'size': '888048', 'document...     2025-06-28   \n",
       "\n",
       "                                            entities  \\\n",
       "0  [{'fiscalYearEnd': '0927', 'stateOfIncorporati...   \n",
       "\n",
       "                                 id seriesAndClassesContractsInformation  \\\n",
       "0  67bc426d322a1d4cca82964b9a9b09eb                                   []   \n",
       "\n",
       "                                          linkToHtml  linkToXbrl  \\\n",
       "0  https://www.sec.gov/Archives/edgar/data/320193...         NaN   \n",
       "\n",
       "                                           dataFiles items effectivenessDate  \n",
       "0  [{'sequence': '5', 'size': '35427', 'documentU...   NaN               NaN  "
      ]
     },
     "execution_count": 2,
     "metadata": {},
     "output_type": "execute_result"
    }
   ],
   "source": [
    "import pandas as pd\n",
    "\n",
    "df = pd.read_csv(\"metadata.csv\")\n",
    "\n",
    "df.head(1)"
   ]
  },
  {
   "cell_type": "code",
   "execution_count": 3,
   "id": "49e7344d",
   "metadata": {},
   "outputs": [
    {
     "data": {
      "text/plain": [
       "Index(['ticker', 'formType', 'accessionNo', 'cik', 'companyNameLong',\n",
       "       'companyName', 'linkToFilingDetails', 'description', 'linkToTxt',\n",
       "       'filedAt', 'documentFormatFiles', 'periodOfReport', 'entities', 'id',\n",
       "       'seriesAndClassesContractsInformation', 'linkToHtml', 'linkToXbrl',\n",
       "       'dataFiles', 'items', 'effectivenessDate'],\n",
       "      dtype='object')"
      ]
     },
     "execution_count": 3,
     "metadata": {},
     "output_type": "execute_result"
    }
   ],
   "source": [
    "\n",
    "df.columns"
   ]
  },
  {
   "cell_type": "code",
   "execution_count": 4,
   "id": "8833c77d",
   "metadata": {},
   "outputs": [
    {
     "data": {
      "text/plain": [
       "ticker                                    0\n",
       "formType                                  0\n",
       "accessionNo                               0\n",
       "cik                                       0\n",
       "companyNameLong                           0\n",
       "companyName                               0\n",
       "linkToFilingDetails                       0\n",
       "description                               0\n",
       "linkToTxt                                 0\n",
       "filedAt                                   0\n",
       "documentFormatFiles                       0\n",
       "periodOfReport                           16\n",
       "entities                                  0\n",
       "id                                        0\n",
       "seriesAndClassesContractsInformation     39\n",
       "linkToHtml                                0\n",
       "linkToXbrl                              795\n",
       "dataFiles                                 0\n",
       "items                                   493\n",
       "effectivenessDate                       713\n",
       "dtype: int64"
      ]
     },
     "execution_count": 4,
     "metadata": {},
     "output_type": "execute_result"
    }
   ],
   "source": [
    "df.isna().sum()"
   ]
  },
  {
   "cell_type": "code",
   "execution_count": null,
   "id": "9fd12c43",
   "metadata": {},
   "outputs": [],
   "source": []
  }
 ],
 "metadata": {
  "kernelspec": {
   "display_name": "ass-test",
   "language": "python",
   "name": "python3"
  },
  "language_info": {
   "codemirror_mode": {
    "name": "ipython",
    "version": 3
   },
   "file_extension": ".py",
   "mimetype": "text/x-python",
   "name": "python",
   "nbconvert_exporter": "python",
   "pygments_lexer": "ipython3",
   "version": "3.10.18"
  }
 },
 "nbformat": 4,
 "nbformat_minor": 5
}
