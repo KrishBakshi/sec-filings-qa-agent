{
 "cells": [
  {
   "cell_type": "code",
   "execution_count": 1,
   "id": "1b0416a6",
   "metadata": {},
   "outputs": [],
   "source": [
    "from sec_api import QueryApi\n",
    "import dotenv\n",
    "import os\n",
    "\n",
    "dotenv.load_dotenv()\n",
    "\n",
    "queryApi = QueryApi(api_key=os.getenv(\"SEC_API_KEY\"))\n",
    "\n",
    "search_params = {\n",
    "    \"query\": \"ticker:TSLA\",\n",
    "    \"from\": \"0\",\n",
    "    \"size\": \"50\",\n",
    "    \"sort\": [{\"filedAt\": {\"order\": \"desc\"}}],\n",
    "}\n",
    "\n",
    "response = queryApi.get_filings(search_params)"
   ]
  },
  {
   "cell_type": "code",
   "execution_count": 3,
   "id": "cc01d8d4",
   "metadata": {},
   "outputs": [
    {
     "name": "stdout",
     "output_type": "stream",
     "text": [
      "Response object fields:\n",
      " ['total', 'query', 'filings']\n"
     ]
    }
   ],
   "source": [
    "print(\"Response object fields:\\n\", list(response.keys()))"
   ]
  },
  {
   "cell_type": "code",
   "execution_count": 4,
   "id": "3e8f135a",
   "metadata": {},
   "outputs": [
    {
     "name": "stdout",
     "output_type": "stream",
     "text": [
      "Number of filings matching the search criteria:\n",
      " 1657\n"
     ]
    }
   ],
   "source": [
    "print(\"Number of filings matching the search criteria:\\n\", response['total']['value'])\n"
   ]
  },
  {
   "cell_type": "code",
   "execution_count": 5,
   "id": "19a300db",
   "metadata": {},
   "outputs": [
    {
     "name": "stdout",
     "output_type": "stream",
     "text": [
      "Number of filings returned in this response:\n",
      " 50\n"
     ]
    }
   ],
   "source": [
    "print(\"Number of filings returned in this response:\\n\", len(response[\"filings\"]))\n"
   ]
  },
  {
   "cell_type": "code",
   "execution_count": 6,
   "id": "5433a805",
   "metadata": {},
   "outputs": [
    {
     "name": "stdout",
     "output_type": "stream",
     "text": [
      "Filing metadata objects converted to a DataFrame:\n"
     ]
    },
    {
     "data": {
      "text/html": [
       "<div>\n",
       "<style scoped>\n",
       "    .dataframe tbody tr th:only-of-type {\n",
       "        vertical-align: middle;\n",
       "    }\n",
       "\n",
       "    .dataframe tbody tr th {\n",
       "        vertical-align: top;\n",
       "    }\n",
       "\n",
       "    .dataframe thead th {\n",
       "        text-align: right;\n",
       "    }\n",
       "</style>\n",
       "<table border=\"1\" class=\"dataframe\">\n",
       "  <thead>\n",
       "    <tr style=\"text-align: right;\">\n",
       "      <th></th>\n",
       "      <th>ticker</th>\n",
       "      <th>formType</th>\n",
       "      <th>accessionNo</th>\n",
       "      <th>cik</th>\n",
       "      <th>companyNameLong</th>\n",
       "      <th>companyName</th>\n",
       "      <th>linkToFilingDetails</th>\n",
       "      <th>description</th>\n",
       "      <th>linkToTxt</th>\n",
       "      <th>filedAt</th>\n",
       "      <th>documentFormatFiles</th>\n",
       "      <th>periodOfReport</th>\n",
       "      <th>entities</th>\n",
       "      <th>id</th>\n",
       "      <th>seriesAndClassesContractsInformation</th>\n",
       "      <th>linkToHtml</th>\n",
       "      <th>linkToXbrl</th>\n",
       "      <th>dataFiles</th>\n",
       "      <th>items</th>\n",
       "    </tr>\n",
       "  </thead>\n",
       "  <tbody>\n",
       "    <tr>\n",
       "      <th>0</th>\n",
       "      <td>TSLA</td>\n",
       "      <td>4</td>\n",
       "      <td>0001104659-25-073753</td>\n",
       "      <td>1318605</td>\n",
       "      <td>Tesla, Inc. (Issuer)</td>\n",
       "      <td>Tesla, Inc.</td>\n",
       "      <td>https://www.sec.gov/Archives/edgar/data/131860...</td>\n",
       "      <td>Form 4 - Statement of changes in beneficial ow...</td>\n",
       "      <td>https://www.sec.gov/Archives/edgar/data/131860...</td>\n",
       "      <td>2025-08-04T19:00:13-04:00</td>\n",
       "      <td>[{'sequence': '1', 'size': ' ', 'documentUrl':...</td>\n",
       "      <td>2025-08-03</td>\n",
       "      <td>[{'fiscalYearEnd': '1231', 'stateOfIncorporati...</td>\n",
       "      <td>243dc3684003df5310d2d4e2cc2c9b17</td>\n",
       "      <td>[]</td>\n",
       "      <td>https://www.sec.gov/Archives/edgar/data/131860...</td>\n",
       "      <td></td>\n",
       "      <td>[]</td>\n",
       "      <td>NaN</td>\n",
       "    </tr>\n",
       "    <tr>\n",
       "      <th>1</th>\n",
       "      <td>TSLA</td>\n",
       "      <td>8-K</td>\n",
       "      <td>0001104659-25-073263</td>\n",
       "      <td>1318605</td>\n",
       "      <td>Tesla, Inc. (Filer)</td>\n",
       "      <td>Tesla, Inc.</td>\n",
       "      <td>https://www.sec.gov/Archives/edgar/data/131860...</td>\n",
       "      <td>Form 8-K - Current report - Item 5.02 Item 7.0...</td>\n",
       "      <td>https://www.sec.gov/Archives/edgar/data/131860...</td>\n",
       "      <td>2025-08-04T06:03:14-04:00</td>\n",
       "      <td>[{'sequence': '1', 'size': '49077', 'documentU...</td>\n",
       "      <td>2025-08-03</td>\n",
       "      <td>[{'fiscalYearEnd': '1231', 'stateOfIncorporati...</td>\n",
       "      <td>022c778a3ab1f9f14d7c4a78df9e67fc</td>\n",
       "      <td>[]</td>\n",
       "      <td>https://www.sec.gov/Archives/edgar/data/131860...</td>\n",
       "      <td></td>\n",
       "      <td>[{'sequence': '4', 'size': '3005', 'documentUr...</td>\n",
       "      <td>[Item 5.02: Departure of Directors or Certain ...</td>\n",
       "    </tr>\n",
       "    <tr>\n",
       "      <th>2</th>\n",
       "      <td>TSLA</td>\n",
       "      <td>10-Q</td>\n",
       "      <td>0001628280-25-035806</td>\n",
       "      <td>1318605</td>\n",
       "      <td>Tesla, Inc. (Filer)</td>\n",
       "      <td>Tesla, Inc.</td>\n",
       "      <td>https://www.sec.gov/Archives/edgar/data/131860...</td>\n",
       "      <td>Form 10-Q - Quarterly report [Sections 13 or 1...</td>\n",
       "      <td>https://www.sec.gov/Archives/edgar/data/131860...</td>\n",
       "      <td>2025-07-23T20:23:31-04:00</td>\n",
       "      <td>[{'sequence': '1', 'size': '1518452', 'documen...</td>\n",
       "      <td>2025-06-30</td>\n",
       "      <td>[{'fiscalYearEnd': '1231', 'stateOfIncorporati...</td>\n",
       "      <td>c23930ea0951bd22cc11af8ba23b8287</td>\n",
       "      <td>[]</td>\n",
       "      <td>https://www.sec.gov/Archives/edgar/data/131860...</td>\n",
       "      <td></td>\n",
       "      <td>[{'sequence': '5', 'size': '51221', 'documentU...</td>\n",
       "      <td>NaN</td>\n",
       "    </tr>\n",
       "  </tbody>\n",
       "</table>\n",
       "</div>"
      ],
      "text/plain": [
       "  ticker formType           accessionNo      cik       companyNameLong  \\\n",
       "0   TSLA        4  0001104659-25-073753  1318605  Tesla, Inc. (Issuer)   \n",
       "1   TSLA      8-K  0001104659-25-073263  1318605   Tesla, Inc. (Filer)   \n",
       "2   TSLA     10-Q  0001628280-25-035806  1318605   Tesla, Inc. (Filer)   \n",
       "\n",
       "   companyName                                linkToFilingDetails  \\\n",
       "0  Tesla, Inc.  https://www.sec.gov/Archives/edgar/data/131860...   \n",
       "1  Tesla, Inc.  https://www.sec.gov/Archives/edgar/data/131860...   \n",
       "2  Tesla, Inc.  https://www.sec.gov/Archives/edgar/data/131860...   \n",
       "\n",
       "                                         description  \\\n",
       "0  Form 4 - Statement of changes in beneficial ow...   \n",
       "1  Form 8-K - Current report - Item 5.02 Item 7.0...   \n",
       "2  Form 10-Q - Quarterly report [Sections 13 or 1...   \n",
       "\n",
       "                                           linkToTxt  \\\n",
       "0  https://www.sec.gov/Archives/edgar/data/131860...   \n",
       "1  https://www.sec.gov/Archives/edgar/data/131860...   \n",
       "2  https://www.sec.gov/Archives/edgar/data/131860...   \n",
       "\n",
       "                     filedAt  \\\n",
       "0  2025-08-04T19:00:13-04:00   \n",
       "1  2025-08-04T06:03:14-04:00   \n",
       "2  2025-07-23T20:23:31-04:00   \n",
       "\n",
       "                                 documentFormatFiles periodOfReport  \\\n",
       "0  [{'sequence': '1', 'size': ' ', 'documentUrl':...     2025-08-03   \n",
       "1  [{'sequence': '1', 'size': '49077', 'documentU...     2025-08-03   \n",
       "2  [{'sequence': '1', 'size': '1518452', 'documen...     2025-06-30   \n",
       "\n",
       "                                            entities  \\\n",
       "0  [{'fiscalYearEnd': '1231', 'stateOfIncorporati...   \n",
       "1  [{'fiscalYearEnd': '1231', 'stateOfIncorporati...   \n",
       "2  [{'fiscalYearEnd': '1231', 'stateOfIncorporati...   \n",
       "\n",
       "                                 id seriesAndClassesContractsInformation  \\\n",
       "0  243dc3684003df5310d2d4e2cc2c9b17                                   []   \n",
       "1  022c778a3ab1f9f14d7c4a78df9e67fc                                   []   \n",
       "2  c23930ea0951bd22cc11af8ba23b8287                                   []   \n",
       "\n",
       "                                          linkToHtml linkToXbrl  \\\n",
       "0  https://www.sec.gov/Archives/edgar/data/131860...              \n",
       "1  https://www.sec.gov/Archives/edgar/data/131860...              \n",
       "2  https://www.sec.gov/Archives/edgar/data/131860...              \n",
       "\n",
       "                                           dataFiles  \\\n",
       "0                                                 []   \n",
       "1  [{'sequence': '4', 'size': '3005', 'documentUr...   \n",
       "2  [{'sequence': '5', 'size': '51221', 'documentU...   \n",
       "\n",
       "                                               items  \n",
       "0                                                NaN  \n",
       "1  [Item 5.02: Departure of Directors or Certain ...  \n",
       "2                                                NaN  "
      ]
     },
     "execution_count": 6,
     "metadata": {},
     "output_type": "execute_result"
    }
   ],
   "source": [
    "import pandas as pd\n",
    "\n",
    "metadata = pd.DataFrame.from_records(response[\"filings\"])\n",
    "\n",
    "print(\"Filing metadata objects converted to a DataFrame:\")\n",
    "metadata.head(3)"
   ]
  },
  {
   "cell_type": "code",
   "execution_count": 7,
   "id": "7b51b2d6",
   "metadata": {},
   "outputs": [
    {
     "name": "stdout",
     "output_type": "stream",
     "text": [
      "Available filing metadata fields for this response:\n"
     ]
    },
    {
     "data": {
      "text/plain": [
       "['ticker',\n",
       " 'formType',\n",
       " 'accessionNo',\n",
       " 'cik',\n",
       " 'companyNameLong',\n",
       " 'companyName',\n",
       " 'linkToFilingDetails',\n",
       " 'description',\n",
       " 'linkToTxt',\n",
       " 'filedAt',\n",
       " 'documentFormatFiles',\n",
       " 'periodOfReport',\n",
       " 'entities',\n",
       " 'id',\n",
       " 'seriesAndClassesContractsInformation',\n",
       " 'linkToHtml',\n",
       " 'linkToXbrl',\n",
       " 'dataFiles',\n",
       " 'items']"
      ]
     },
     "execution_count": 7,
     "metadata": {},
     "output_type": "execute_result"
    }
   ],
   "source": [
    "available_fields = metadata.columns\n",
    "\n",
    "print(\"Available filing metadata fields for this response:\")\n",
    "list(available_fields)"
   ]
  },
  {
   "cell_type": "code",
   "execution_count": 8,
   "id": "a1b61946",
   "metadata": {},
   "outputs": [],
   "source": [
    "metadata.to_csv(\"metadata.csv\", index=False)"
   ]
  },
  {
   "cell_type": "code",
   "execution_count": null,
   "id": "c9443e44",
   "metadata": {},
   "outputs": [],
   "source": []
  }
 ],
 "metadata": {
  "kernelspec": {
   "display_name": "ass-test",
   "language": "python",
   "name": "python3"
  },
  "language_info": {
   "codemirror_mode": {
    "name": "ipython",
    "version": 3
   },
   "file_extension": ".py",
   "mimetype": "text/x-python",
   "name": "python",
   "nbconvert_exporter": "python",
   "pygments_lexer": "ipython3",
   "version": "3.10.18"
  }
 },
 "nbformat": 4,
 "nbformat_minor": 5
}
